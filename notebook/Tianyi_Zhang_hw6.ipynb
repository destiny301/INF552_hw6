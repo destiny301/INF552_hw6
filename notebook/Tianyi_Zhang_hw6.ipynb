{
 "cells": [
  {
   "cell_type": "markdown",
   "metadata": {},
   "source": [
    "# Tianyi Zhang 9598110243\n",
    "------------------"
   ]
  },
  {
   "cell_type": "markdown",
   "metadata": {},
   "source": [
    "## 1. Supervised, Semi-Supervised, and Unsupervised Learning"
   ]
  },
  {
   "cell_type": "markdown",
   "metadata": {},
   "source": [
    "### a)"
   ]
  },
  {
   "cell_type": "code",
   "execution_count": 1,
   "metadata": {},
   "outputs": [],
   "source": [
    "import numpy as np\n",
    "import pandas as pd\n",
    "import seaborn as sns\n",
    "import matplotlib.pyplot as plt\n",
    "import os\n",
    "from sklearn.model_selection import train_test_split\n"
   ]
  },
  {
   "cell_type": "code",
   "execution_count": 2,
   "metadata": {},
   "outputs": [],
   "source": [
    "import sys\n",
    "import warnings\n",
    "\n",
    "warnings.filterwarnings('ignore')\n",
    "if not sys.warnoptions:\n",
    "    warnings.simplefilter(\"ignore\")"
   ]
  },
  {
   "cell_type": "code",
   "execution_count": 3,
   "metadata": {},
   "outputs": [],
   "source": [
    "data_folder = '..\\\\data'"
   ]
  },
  {
   "cell_type": "code",
   "execution_count": 4,
   "metadata": {},
   "outputs": [],
   "source": [
    "def generate_data():\n",
    "    filename = os.path.join(data_folder, 'wdbc.data')\n",
    "\n",
    "    df = pd.read_csv(filename, header = None)\n",
    "    df = df.sample(frac=1).reset_index(drop=True)\n",
    "\n",
    "    x = df.iloc[:, 2:]\n",
    "    y = df.iloc[:, 1]\n",
    "\n",
    "    \n",
    "    return x.to_numpy(), y.to_numpy()"
   ]
  },
  {
   "cell_type": "code",
   "execution_count": 5,
   "metadata": {},
   "outputs": [],
   "source": [
    "def split_train_test(x, y, ratio):\n",
    "    xM = x[y == 'M']\n",
    "    xB = x[y == 'B']\n",
    "    yM = y[y == 'M']\n",
    "    yB = y[y == 'B']\n",
    "\n",
    "\n",
    "    xtr = np.concatenate((xM[round(len(xM) * ratio):], xB[round(len(xB) * ratio):]), axis = 0)\n",
    "    ytr = np.concatenate((yM[round(len(xM) * ratio):], yB[round(len(xB) * ratio):]), axis = 0)\n",
    "    xte = np.concatenate((xM[:round(len(xM) * ratio)], xB[:round(len(xB) * ratio)]), axis = 0)\n",
    "    yte = np.concatenate((yM[:round(len(xM) * ratio)], yB[:round(len(xB) * ratio)]), axis = 0)\n",
    "    \n",
    "    return xtr, ytr, xte, yte"
   ]
  },
  {
   "cell_type": "code",
   "execution_count": 6,
   "metadata": {},
   "outputs": [
    {
     "name": "stdout",
     "output_type": "stream",
     "text": [
      "shape of training data and label: (456, 30) (456,)\n",
      "shape of test data and label: (113, 30) (113,)\n"
     ]
    }
   ],
   "source": [
    "x, y = generate_data()\n",
    "\n",
    "xtr, ytr, xte, yte = split_train_test(x, y, ratio = 0.2)\n",
    "\n",
    "print(\"shape of training data and label:\", xtr.shape, ytr.shape)\n",
    "print(\"shape of test data and label:\", xte.shape, yte.shape)"
   ]
  },
  {
   "cell_type": "markdown",
   "metadata": {},
   "source": [
    "### b)"
   ]
  },
  {
   "cell_type": "markdown",
   "metadata": {},
   "source": [
    "#### 1)"
   ]
  },
  {
   "cell_type": "code",
   "execution_count": 7,
   "metadata": {},
   "outputs": [],
   "source": [
    "from sklearn.preprocessing import LabelEncoder, MinMaxScaler\n",
    "from sklearn.metrics import precision_recall_fscore_support as score, accuracy_score\n",
    "from sklearn.model_selection import GridSearchCV\n",
    "from sklearn.svm import LinearSVC\n",
    "from tqdm import tqdm\n",
    "\n",
    "from sklearn.metrics import roc_curve, auc"
   ]
  },
  {
   "cell_type": "code",
   "execution_count": 8,
   "metadata": {},
   "outputs": [],
   "source": [
    "parameters = {\"C\": np.logspace(-3, 6, 10)}"
   ]
  },
  {
   "cell_type": "code",
   "execution_count": 9,
   "metadata": {},
   "outputs": [],
   "source": [
    "acc_train = []\n",
    "acc_test = []\n",
    "\n",
    "matrix_train = {}\n",
    "precision_train = []\n",
    "recall_train = []\n",
    "f_train = []\n",
    "auc_train = []\n",
    "\n",
    "matrix_test = {}\n",
    "precision_test = []\n",
    "recall_test = []\n",
    "f_test = []\n",
    "auc_test = []\n",
    "\n",
    "\n",
    "y_train = {}\n",
    "y_test = {}\n",
    "prediction_train = {}\n",
    "prediction_test = {}"
   ]
  },
  {
   "cell_type": "code",
   "execution_count": 10,
   "metadata": {},
   "outputs": [],
   "source": [
    "for i in range(30):\n",
    "    x, y = generate_data()\n",
    "\n",
    "    x = MinMaxScaler().fit(x).transform(x)\n",
    "\n",
    "    xtr, ytr, xte, yte = split_train_test(x, y, ratio = 0.2)\n",
    "    yte = np.array([0 if x == 'M' else 1 for x in yte])\n",
    "    ytr = np.array([0 if x == 'M' else 1 for x in ytr])\n",
    "\n",
    "    y_train[i] = ytr\n",
    "    y_test[i] = yte\n",
    "\n",
    "    l1_svc = LinearSVC(penalty=\"l1\", dual=False, max_iter=5000)\n",
    "    gridCV = GridSearchCV(l1_svc, parameters, cv=5, n_jobs=-1)\n",
    "    gridCV.fit(xtr, ytr)\n",
    "\n",
    "    bestClf = gridCV.best_estimator_\n",
    "    pred_tr = bestClf.predict(xtr)\n",
    "    pred_te = bestClf.predict(xte)\n",
    "    prediction_train[i] = pred_tr\n",
    "    prediction_test[i] = pred_te\n",
    "\n",
    "    matrix_tr = pd.crosstab(ytr, pred_tr, rownames=['True'], colnames=['Predicted'], margins=True)\n",
    "    matrix_te = pd.crosstab(yte, pred_te, rownames=['True'], colnames=['Predicted'], margins=True)\n",
    "    matrix_train[i] = matrix_tr\n",
    "    matrix_test[i] = matrix_te\n",
    "\n",
    "    precision_tr, recall_tr, f_tr, _ = score(ytr, pred_tr, average='binary', pos_label=1)\n",
    "    precision_te, recall_te, f_te, _ = score(yte, pred_te, average='binary', pos_label=1)\n",
    "\n",
    "    precision_train.append(precision_tr)\n",
    "    recall_train.append(recall_tr)\n",
    "    f_train.append(f_tr)\n",
    "    precision_test.append(precision_te)\n",
    "    recall_test.append(recall_te)\n",
    "    f_test.append(f_te)\n",
    "\n",
    "    fp_tr, tp_tr, _ = roc_curve(ytr, pred_tr)\n",
    "    auc_tr = auc(fp_tr, tp_tr)\n",
    "    auc_train.append(auc_tr)\n",
    "\n",
    "    fp_te, tp_te, _ = roc_curve(yte, pred_te)\n",
    "    auc_te = auc(fp_te, tp_te)\n",
    "    auc_test.append(auc_te)\n",
    "\n",
    "    acc_train.append(accuracy_score(ytr, pred_tr))\n",
    "    acc_test.append(accuracy_score(yte, pred_te))\n"
   ]
  },
  {
   "cell_type": "markdown",
   "metadata": {},
   "source": [
    "**For training data:**"
   ]
  },
  {
   "cell_type": "code",
   "execution_count": 11,
   "metadata": {},
   "outputs": [
    {
     "name": "stdout",
     "output_type": "stream",
     "text": [
      "average accuracy:  0.9844298245614034\n",
      "average precision:  0.9817263142507772\n",
      "average recall:  0.9937062937062938\n",
      "average F1 -Score:  0.9876689821734764\n",
      "average AUC:  0.9812649115590293\n"
     ]
    }
   ],
   "source": [
    "print(\"average accuracy: \", np.average(acc_train))\n",
    "print(\"average precision: \", np.average(precision_train))\n",
    "print(\"average recall: \", np.average(recall_train))\n",
    "print(\"average F1 -Score: \", np.average(f_train))\n",
    "print(\"average AUC: \", np.average(auc_train))"
   ]
  },
  {
   "cell_type": "code",
   "execution_count": 12,
   "metadata": {},
   "outputs": [
    {
     "name": "stdout",
     "output_type": "stream",
     "text": [
      "training confusion matrix:\n",
      "---------------\n",
      "Predicted    0    1  All\n",
      "True                    \n",
      "0          170    0  170\n",
      "1            0  286  286\n",
      "All        170  286  456\n"
     ]
    }
   ],
   "source": [
    "index = np.argmax(acc_train)\n",
    "print(\"training confusion matrix:\")\n",
    "print(\"---------------\")\n",
    "print(matrix_train[index])"
   ]
  },
  {
   "cell_type": "code",
   "execution_count": 13,
   "metadata": {},
   "outputs": [
    {
     "data": {
      "image/png": "[encoded data removed]",
      "text/plain": [
       "<Figure size 432x288 with 1 Axes>"
      ]
     },
     "metadata": {
      "needs_background": "light"
     },
     "output_type": "display_data"
    },
    {
     "name": "stdout",
     "output_type": "stream",
     "text": [
      "---------------\n",
      "auc(training data):  1.0\n"
     ]
    }
   ],
   "source": [
    "fp, tp, thresholds = roc_curve(y_train[index], prediction_train[index])\n",
    "area = auc(fp, tp)\n",
    "plt.plot(fp, tp, color='red')\n",
    "plt.plot([0, 1], [0, 1], 'k--')\n",
    "plt.xlabel('False Positive Rate')\n",
    "plt.ylabel('True Positive Rate')\n",
    "plt.title(\"ROC(traning data)\")\n",
    "plt.show()\n",
    "print(\"---------------\")\n",
    "print(\"auc(training data): \", area)"
   ]
  },
  {
   "cell_type": "markdown",
   "metadata": {},
   "source": [
    "**For test data:**"
   ]
  },
  {
   "cell_type": "code",
   "execution_count": 14,
   "metadata": {},
   "outputs": [
    {
     "name": "stdout",
     "output_type": "stream",
     "text": [
      "average accuracy:  0.9702064896755164\n",
      "average precision:  0.9706567391430474\n",
      "average recall:  0.9826291079812207\n",
      "average F1 -Score:  0.9764518225593872\n",
      "average AUC:  0.9659177285937849\n"
     ]
    }
   ],
   "source": [
    "print(\"average accuracy: \", np.average(acc_test))\n",
    "print(\"average precision: \", np.average(precision_test))\n",
    "print(\"average recall: \", np.average(recall_test))\n",
    "print(\"average F1 -Score: \", np.average(f_test))\n",
    "print(\"average AUC: \", np.average(auc_test))"
   ]
  },
  {
   "cell_type": "code",
   "execution_count": 15,
   "metadata": {},
   "outputs": [
    {
     "name": "stdout",
     "output_type": "stream",
     "text": [
      "training confusion matrix:\n",
      "---------------\n",
      "Predicted   0   1  All\n",
      "True                  \n",
      "0          40   2   42\n",
      "1           4  67   71\n",
      "All        44  69  113\n"
     ]
    }
   ],
   "source": [
    "print(\"test confusion matrix:\")\n",
    "print(\"---------------\")\n",
    "print(matrix_test[index])"
   ]
  },
  {
   "cell_type": "code",
   "execution_count": 16,
   "metadata": {},
   "outputs": [
    {
     "data": {
      "image/png": "[encoded data removed]",
      "text/plain": [
       "<Figure size 432x288 with 1 Axes>"
      ]
     },
     "metadata": {
      "needs_background": "light"
     },
     "output_type": "display_data"
    },
    {
     "name": "stdout",
     "output_type": "stream",
     "text": [
      "---------------\n",
      "auc(test data):  0.948021462105969\n"
     ]
    }
   ],
   "source": [
    "fp, tp, thresholds = roc_curve(y_test[index], prediction_test[index])\n",
    "area = auc(fp, tp)\n",
    "plt.plot(fp, tp, color='red')\n",
    "plt.plot([0, 1], [0, 1], 'k--')\n",
    "plt.xlabel('False Positive Rate')\n",
    "plt.ylabel('True Positive Rate')\n",
    "plt.title(\"ROC(test data)\")\n",
    "plt.show()\n",
    "print(\"---------------\")\n",
    "print(\"auc(test data): \", area)"
   ]
  },
  {
   "cell_type": "markdown",
   "metadata": {},
   "source": [
    "#### 2)"
   ]
  },
  {
   "cell_type": "markdown",
   "metadata": {},
   "source": [
    "##### A)"
   ]
  },
  {
   "cell_type": "code",
   "execution_count": 17,
   "metadata": {},
   "outputs": [],
   "source": [
    "x, y = generate_data()\n",
    "\n",
    "x = MinMaxScaler().fit(x).transform(x)\n",
    "xtr, ytr, xte, yte = split_train_test(x, y, ratio = 0.2)\n",
    "label_x, label_y, unlabel_x, unlabel = split_train_test(xtr, ytr, ratio = 0.5)"
   ]
  },
  {
   "cell_type": "code",
   "execution_count": 18,
   "metadata": {},
   "outputs": [
    {
     "name": "stdout",
     "output_type": "stream",
     "text": [
      "best penalty parameter:  {'C': 1.0}\n",
      "test score: 0.9557522123893806\n"
     ]
    }
   ],
   "source": [
    "l1_svc = LinearSVC(penalty=\"l1\", dual=False, max_iter=5000)\n",
    "gridCV = GridSearchCV(l1_svc, parameters, cv=5, n_jobs=-1)\n",
    "gridCV.fit(label_x, label_y)\n",
    "\n",
    "print(\"best penalty parameter: \", gridCV.best_params_)\n",
    "print(\"test score:\", gridCV.score(xte, yte))"
   ]
  },
  {
   "cell_type": "markdown",
   "metadata": {},
   "source": [
    "##### B)"
   ]
  },
  {
   "cell_type": "code",
   "execution_count": 19,
   "metadata": {},
   "outputs": [],
   "source": [
    "acc_train = []\n",
    "acc_test = []\n",
    "\n",
    "matrix_train = {}\n",
    "precision_train = []\n",
    "recall_train = []\n",
    "f_train = []\n",
    "auc_train = []\n",
    "\n",
    "matrix_test = {}\n",
    "precision_test = []\n",
    "recall_test = []\n",
    "f_test = []\n",
    "auc_test = []\n",
    "\n",
    "\n",
    "y_train = {}\n",
    "y_test = {}\n",
    "prediction_train = {}\n",
    "prediction_test = {}"
   ]
  },
  {
   "cell_type": "code",
   "execution_count": 20,
   "metadata": {},
   "outputs": [],
   "source": [
    "def semi_learning(label_xtr, label_ytr, unlabel_xtr, bestClf):\n",
    "    for _ in range(unlabel_xtr.shape[0]):\n",
    "        distance = np.absolute(bestClf.decision_function(unlabel_xtr))\n",
    "        maxIndex = np.argmax(distance)\n",
    "        datapoint = np.array(unlabel_xtr[maxIndex]).reshape(1, 30)\n",
    "        pred = bestClf.predict(datapoint)\n",
    "\n",
    "        unlabel_xtr = np.delete(unlabel_xtr, maxIndex, axis=0)\n",
    "        label_xtr = np.append(label_xtr, datapoint, axis=0)\n",
    "        label_ytr = np.append(label_ytr, pred, axis=0)\n",
    "\n",
    "        bestClf.fit(label_xtr, label_ytr)\n",
    "    return bestClf"
   ]
  },
  {
   "cell_type": "code",
   "execution_count": 21,
   "metadata": {},
   "outputs": [],
   "source": [
    "for i in range(30):\n",
    "    x, y = generate_data()\n",
    "\n",
    "    x = MinMaxScaler().fit(x).transform(x)\n",
    "\n",
    "    xtr, ytr, xte, yte = split_train_test(x, y, ratio = 0.2)\n",
    "    label_xtr, label_ytr, unlabel_xtr, unlabel = split_train_test(xtr, ytr, ratio = 0.5)\n",
    "    yte = np.array([0 if x == 'M' else 1 for x in yte])\n",
    "    label_ytr = np.array([0 if x == 'M' else 1 for x in label_ytr])\n",
    "    y_train[i] = label_ytr\n",
    "    y_test[i] = yte\n",
    "    \n",
    "    l1_svc = LinearSVC(penalty=\"l1\", dual=False, max_iter=5000)\n",
    "    gridCV = GridSearchCV(l1_svc, parameters, cv=5, n_jobs=-1)\n",
    "    gridCV.fit(label_xtr, label_ytr)\n",
    "    \n",
    "    bestClf = gridCV.best_estimator_\n",
    "    bestClf = semi_learning(label_xtr.copy(), label_ytr.copy(), unlabel_xtr.copy(), bestClf)\n",
    "\n",
    "    pred_tr = bestClf.predict(label_xtr)\n",
    "    pred_te = bestClf.predict(xte)\n",
    "    prediction_train[i] = pred_tr\n",
    "    prediction_test[i] = pred_te\n",
    "\n",
    "    matrix_tr = pd.crosstab(label_ytr, pred_tr, rownames=['True'], colnames=['Predicted'], margins=True)\n",
    "    matrix_te = pd.crosstab(yte, pred_te, rownames=['True'], colnames=['Predicted'], margins=True)\n",
    "    matrix_train[i] = matrix_tr\n",
    "    matrix_test[i] = matrix_te\n",
    "\n",
    "    precision_tr, recall_tr, f_tr, _ = score(label_ytr, pred_tr, average='binary', pos_label=1)\n",
    "    precision_te, recall_te, f_te, _ = score(yte, pred_te, average='binary', pos_label=1)\n",
    "\n",
    "    precision_train.append(precision_tr)\n",
    "    recall_train.append(recall_tr)\n",
    "    f_train.append(f_tr)\n",
    "    precision_test.append(precision_te)\n",
    "    recall_test.append(recall_te)\n",
    "    f_test.append(f_te)\n",
    "\n",
    "    fp_tr, tp_tr, _ = roc_curve(label_ytr, pred_tr)\n",
    "    auc_tr = auc(fp_tr, tp_tr)\n",
    "    auc_train.append(auc_tr)\n",
    "\n",
    "    fp_te, tp_te, _ = roc_curve(yte, pred_te)\n",
    "    auc_te = auc(fp_te, tp_te)\n",
    "    auc_test.append(auc_te)\n",
    "\n",
    "    acc_train.append(accuracy_score(label_ytr, pred_tr))\n",
    "    acc_test.append(accuracy_score(yte, pred_te))\n"
   ]
  },
  {
   "cell_type": "markdown",
   "metadata": {},
   "source": [
    "**For training data:**"
   ]
  },
  {
   "cell_type": "code",
   "execution_count": 22,
   "metadata": {},
   "outputs": [
    {
     "name": "stdout",
     "output_type": "stream",
     "text": [
      "average accuracy:  0.9862573099415204\n",
      "average precision:  0.9820211855946874\n",
      "average recall:  0.9965034965034965\n",
      "average F1 -Score:  0.9891662566491876\n",
      "average AUC:  0.9827615521733168\n"
     ]
    }
   ],
   "source": [
    "print(\"average accuracy: \", np.average(acc_train))\n",
    "print(\"average precision: \", np.average(precision_train))\n",
    "print(\"average recall: \", np.average(recall_train))\n",
    "print(\"average F1 -Score: \", np.average(f_train))\n",
    "print(\"average AUC: \", np.average(auc_train))"
   ]
  },
  {
   "cell_type": "code",
   "execution_count": 23,
   "metadata": {},
   "outputs": [
    {
     "name": "stdout",
     "output_type": "stream",
     "text": [
      "training confusion matrix:\n",
      "---------------\n",
      "Predicted   0    1  All\n",
      "True                   \n",
      "0          85    0   85\n",
      "1           0  143  143\n",
      "All        85  143  228\n"
     ]
    }
   ],
   "source": [
    "index = np.argmax(acc_train)\n",
    "print(\"training confusion matrix:\")\n",
    "print(\"---------------\")\n",
    "print(matrix_train[index])"
   ]
  },
  {
   "cell_type": "code",
   "execution_count": 24,
   "metadata": {},
   "outputs": [
    {
     "data": {
      "image/png": "[encoded data removed]",
      "text/plain": [
       "<Figure size 432x288 with 1 Axes>"
      ]
     },
     "metadata": {
      "needs_background": "light"
     },
     "output_type": "display_data"
    },
    {
     "name": "stdout",
     "output_type": "stream",
     "text": [
      "---------------\n",
      "auc(training data):  1.0\n"
     ]
    }
   ],
   "source": [
    "fp, tp, thresholds = roc_curve(y_train[index], prediction_train[index])\n",
    "area = auc(fp, tp)\n",
    "plt.plot(fp, tp, color='red')\n",
    "plt.plot([0, 1], [0, 1], 'k--')\n",
    "plt.xlabel('False Positive Rate')\n",
    "plt.ylabel('True Positive Rate')\n",
    "plt.title(\"ROC(traning data)\")\n",
    "plt.show()\n",
    "print(\"---------------\")\n",
    "print(\"auc(training data): \", area)"
   ]
  },
  {
   "cell_type": "markdown",
   "metadata": {},
   "source": [
    "**For test data:**"
   ]
  },
  {
   "cell_type": "code",
   "execution_count": 25,
   "metadata": {},
   "outputs": [
    {
     "name": "stdout",
     "output_type": "stream",
     "text": [
      "average accuracy:  0.9584070796460177\n",
      "average precision:  0.9573488241934197\n",
      "average recall:  0.9779342723004696\n",
      "average F1 -Score:  0.9672339566216377\n",
      "average AUC:  0.9516655488486474\n"
     ]
    }
   ],
   "source": [
    "print(\"average accuracy: \", np.average(acc_test))\n",
    "print(\"average precision: \", np.average(precision_test))\n",
    "print(\"average recall: \", np.average(recall_test))\n",
    "print(\"average F1 -Score: \", np.average(f_test))\n",
    "print(\"average AUC: \", np.average(auc_test))"
   ]
  },
  {
   "cell_type": "code",
   "execution_count": 26,
   "metadata": {},
   "outputs": [
    {
     "name": "stdout",
     "output_type": "stream",
     "text": [
      "training confusion matrix:\n",
      "---------------\n",
      "Predicted   0   1  All\n",
      "True                  \n",
      "0          40   2   42\n",
      "1           4  67   71\n",
      "All        44  69  113\n"
     ]
    }
   ],
   "source": [
    "print(\"test confusion matrix:\")\n",
    "print(\"---------------\")\n",
    "print(matrix_test[index])"
   ]
  },
  {
   "cell_type": "code",
   "execution_count": 27,
   "metadata": {},
   "outputs": [
    {
     "data": {
      "image/png": "[encoded data removed]",
      "text/plain": [
       "<Figure size 432x288 with 1 Axes>"
      ]
     },
     "metadata": {
      "needs_background": "light"
     },
     "output_type": "display_data"
    },
    {
     "name": "stdout",
     "output_type": "stream",
     "text": [
      "---------------\n",
      "auc(test data):  0.948021462105969\n"
     ]
    }
   ],
   "source": [
    "fp, tp, thresholds = roc_curve(y_test[index], prediction_test[index])\n",
    "area = auc(fp, tp)\n",
    "plt.plot(fp, tp, color='red')\n",
    "plt.plot([0, 1], [0, 1], 'k--')\n",
    "plt.xlabel('False Positive Rate')\n",
    "plt.ylabel('True Positive Rate')\n",
    "plt.title(\"ROC(test data)\")\n",
    "plt.show()\n",
    "print(\"---------------\")\n",
    "print(\"auc(test data): \", area)"
   ]
  },
  {
   "cell_type": "markdown",
   "metadata": {},
   "source": [
    "#### 3)"
   ]
  },
  {
   "cell_type": "markdown",
   "metadata": {},
   "source": [
    "##### A)"
   ]
  },
  {
   "cell_type": "code",
   "execution_count": 28,
   "metadata": {},
   "outputs": [],
   "source": [
    "from scipy.spatial.distance import cdist\n",
    "from sklearn.cluster import KMeans"
   ]
  },
  {
   "cell_type": "code",
   "execution_count": 29,
   "metadata": {},
   "outputs": [],
   "source": [
    "acc_train = []\n",
    "\n",
    "precision_train = []\n",
    "recall_train = []\n",
    "f_train = []\n",
    "auc_train = []"
   ]
  },
  {
   "cell_type": "code",
   "execution_count": 30,
   "metadata": {},
   "outputs": [],
   "source": [
    "for i in range(30):\n",
    "    x, y = generate_data()\n",
    "\n",
    "    x = MinMaxScaler().fit(x).transform(x)\n",
    "\n",
    "    xtr, ytr, xte, yte = split_train_test(x, y, ratio = 0.2)\n",
    "    yte = np.array([0 if x == 'M' else 1 for x in yte])\n",
    "    ytr = np.array([0 if x == 'M' else 1 for x in ytr])\n",
    "\n",
    "    kmeansClf = KMeans(n_clusters=2, init='random', n_init=10)\n",
    "    cluster_tr = kmeansClf.fit_predict(xtr)\n",
    "\n",
    "    precision_tr, recall_tr, f_tr, _ = score(ytr, cluster_tr, average='binary', pos_label=1)\n",
    "\n",
    "    precision_train.append(precision_tr)\n",
    "    recall_train.append(recall_tr)\n",
    "    f_train.append(f_tr)\n",
    "   \n",
    "    fp_tr, tp_tr, _ = roc_curve(ytr, cluster_tr)\n",
    "    auc_tr = auc(fp_tr, tp_tr)\n",
    "    auc_train.append(auc_tr)\n",
    "\n",
    "    acc_train.append(accuracy_score(ytr, cluster_tr))"
   ]
  },
  {
   "cell_type": "code",
   "execution_count": 31,
   "metadata": {},
   "outputs": [
    {
     "name": "stdout",
     "output_type": "stream",
     "text": [
      "max accuracy:  0.9407894736842105\n",
      "max precision:  0.9331103678929766\n",
      "max recall:  0.9790209790209791\n",
      "max F1 -Score:  0.9538461538461539\n",
      "max AUC:  0.9289387083504729\n"
     ]
    }
   ],
   "source": [
    "print(\"max accuracy: \", np.max(acc_train))\n",
    "print(\"max precision: \", np.max(precision_train))\n",
    "print(\"max recall: \", np.max(recall_train))\n",
    "print(\"max F1 -Score: \", np.max(f_train))\n",
    "print(\"max AUC: \", np.max(auc_train))"
   ]
  },
  {
   "cell_type": "markdown",
   "metadata": {},
   "source": [
    "**To avoid trapped in a local minimum, we can set the random seed and run multiple times.**"
   ]
  },
  {
   "cell_type": "markdown",
   "metadata": {},
   "source": [
    "##### B)"
   ]
  },
  {
   "cell_type": "code",
   "execution_count": 32,
   "metadata": {},
   "outputs": [],
   "source": [
    "acc_train = []\n",
    "\n",
    "matrix_train = {}\n",
    "precision_train = []\n",
    "recall_train = []\n",
    "f_train = []\n",
    "auc_train = []\n",
    "prediction_train = {}\n",
    "y_train = {}"
   ]
  },
  {
   "cell_type": "code",
   "execution_count": 33,
   "metadata": {},
   "outputs": [],
   "source": [
    "from collections import Counter"
   ]
  },
  {
   "cell_type": "code",
   "execution_count": 34,
   "metadata": {},
   "outputs": [],
   "source": [
    "for i in range(30):\n",
    "    x, y = generate_data()\n",
    "\n",
    "    x = MinMaxScaler().fit(x).transform(x)\n",
    "\n",
    "    xtr, ytr, xte, yte = split_train_test(x, y, ratio = 0.2)\n",
    "    yte = np.array([0 if x == 'M' else 1 for x in yte])\n",
    "    ytr = np.array([0 if x == 'M' else 1 for x in ytr])\n",
    "\n",
    "    kmeansClf = KMeans(n_clusters=2, init='random', n_init=10)\n",
    "    cluster_tr = kmeansClf.fit_predict(xtr)\n",
    "\n",
    "    posIndex = np.argsort(cdist(xtr, kmeansClf.cluster_centers_, 'euclidean')[:, 0], axis=0)[:30]\n",
    "    negIndex = np.argsort(cdist(xtr, kmeansClf.cluster_centers_, 'euclidean')[:, 1], axis=0)[:30]\n",
    "\n",
    "    ytr_pos_near = ytr[posIndex]\n",
    "    ytr_neg_near = ytr[negIndex]\n",
    "    pos = Counter(ytr_pos_near).most_common(1)[0][0]\n",
    "    neg = Counter(ytr_neg_near).most_common(1)[0][0]\n",
    "    \n",
    "    majorityPolling = np.vectorize(lambda x: pos if x == 0 else neg)\n",
    "    labels = majorityPolling(cluster_tr)\n",
    "    \n",
    "    prediction_train[i] = labels\n",
    "    y_train[i] = ytr\n",
    "\n",
    "    matrix_train[i] = pd.crosstab(ytr, labels, rownames=['True'], colnames=['Predicted'], margins=True)\n",
    "    precision_tr, recall_tr, f_tr, _ = score(ytr, labels, average='binary', pos_label=1)\n",
    "\n",
    "    precision_train.append(precision_tr)\n",
    "    recall_train.append(recall_tr)\n",
    "    f_train.append(f_tr)\n",
    "   \n",
    "    fp_tr, tp_tr, _ = roc_curve(ytr, labels)\n",
    "    auc_tr = auc(fp_tr, tp_tr)\n",
    "    auc_train.append(auc_tr)\n",
    "\n",
    "    acc_train.append(accuracy_score(ytr, labels))"
   ]
  },
  {
   "cell_type": "code",
   "execution_count": 35,
   "metadata": {},
   "outputs": [
    {
     "name": "stdout",
     "output_type": "stream",
     "text": [
      "average accuracy:  0.9288742690058481\n",
      "average precision:  0.9168018452006098\n",
      "average recall:  0.9751748251748253\n",
      "average F1 -Score:  0.945054386723656\n",
      "average AUC:  0.9130776086658441\n"
     ]
    }
   ],
   "source": [
    "print(\"average accuracy: \", np.average(acc_train))\n",
    "print(\"average precision: \", np.average(precision_train))\n",
    "print(\"average recall: \", np.average(recall_train))\n",
    "print(\"average F1 -Score: \", np.average(f_train))\n",
    "print(\"average AUC: \", np.average(auc_train))"
   ]
  },
  {
   "cell_type": "code",
   "execution_count": 36,
   "metadata": {},
   "outputs": [
    {
     "name": "stdout",
     "output_type": "stream",
     "text": [
      "training confusion matrix:\n",
      "---------------\n",
      "Predicted    0    1  All\n",
      "True                    \n",
      "0          151   19  170\n",
      "1            4  282  286\n",
      "All        155  301  456\n"
     ]
    }
   ],
   "source": [
    "index = np.argmax(acc_train)\n",
    "print(\"training confusion matrix:\")\n",
    "print(\"---------------\")\n",
    "print(matrix_train[index])"
   ]
  },
  {
   "cell_type": "code",
   "execution_count": 37,
   "metadata": {},
   "outputs": [
    {
     "data": {
      "image/png": "[encoded data removed]",
      "text/plain": [
       "<Figure size 432x288 with 1 Axes>"
      ]
     },
     "metadata": {
      "needs_background": "light"
     },
     "output_type": "display_data"
    },
    {
     "name": "stdout",
     "output_type": "stream",
     "text": [
      "---------------\n",
      "auc(training data):  0.9371246400658164\n"
     ]
    }
   ],
   "source": [
    "fp, tp, thresholds = roc_curve(y_train[index], prediction_train[index])\n",
    "area = auc(fp, tp)\n",
    "plt.plot(fp, tp, color='red')\n",
    "plt.plot([0, 1], [0, 1], 'k--')\n",
    "plt.xlabel('False Positive Rate')\n",
    "plt.ylabel('True Positive Rate')\n",
    "plt.title(\"ROC(traning data)\")\n",
    "plt.show()\n",
    "print(\"---------------\")\n",
    "print(\"auc(training data): \", area)"
   ]
  },
  {
   "cell_type": "markdown",
   "metadata": {},
   "source": [
    "##### C)"
   ]
  },
  {
   "cell_type": "code",
   "execution_count": 38,
   "metadata": {},
   "outputs": [],
   "source": [
    "acc_test = []\n",
    "\n",
    "matrix_test = {}\n",
    "precision_test = []\n",
    "recall_test = []\n",
    "f_test = []\n",
    "auc_test = []\n",
    "prediction_test = {}\n",
    "y_test = {}"
   ]
  },
  {
   "cell_type": "code",
   "execution_count": 39,
   "metadata": {},
   "outputs": [],
   "source": [
    "for i in range(30):\n",
    "    x, y = generate_data()\n",
    "\n",
    "    x = MinMaxScaler().fit(x).transform(x)\n",
    "\n",
    "    xtr, ytr, xte, yte = split_train_test(x, y, ratio = 0.2)\n",
    "    yte = np.array([0 if x == 'M' else 1 for x in yte])\n",
    "    ytr = np.array([0 if x == 'M' else 1 for x in ytr])\n",
    "\n",
    "    kmeansClf = KMeans(n_clusters=2, init='random', n_init=10)\n",
    "    cluster_te = kmeansClf.fit_predict(xte)\n",
    "\n",
    "    posDist = cdist(xte, kmeansClf.cluster_centers_, 'euclidean')[:, 0]\n",
    "    negDist = cdist(xte, kmeansClf.cluster_centers_, 'euclidean')[:, 1]\n",
    "    \n",
    "    prediction_te = []\n",
    "    for index, pred in enumerate(cluster_te):\n",
    "        if pred == 1:\n",
    "            prediction_te.append(1 if abs(posDist[index]) < abs(negDist[index]) else 0)\n",
    "        else:\n",
    "            prediction_te.append(0 if abs(posDist[index]) > abs(negDist[index]) else 1)\n",
    "    \n",
    "    majority = Counter(prediction_te).most_common(1)[0][0]\n",
    "    if majority != 1:\n",
    "        flip = np.vectorize(lambda x: 1 if x == 0 else 0)\n",
    "        prediction_te = flip(prediction_te).tolist()\n",
    "    prediction_test[i] = prediction_te\n",
    "    y_test[i]= yte\n",
    "\n",
    "    matrix_test[i] = pd.crosstab(yte, np.reshape(prediction_te, (-1,)), rownames=['True'], colnames=['Predicted'], margins=True)\n",
    "    precision_te, recall_te, f_te, _ = score(yte, prediction_te, average='binary', pos_label=1)\n",
    "\n",
    "    precision_test.append(precision_te)\n",
    "    recall_test.append(recall_te)\n",
    "    f_test.append(f_te)\n",
    "   \n",
    "    fp_te, tp_te, _ = roc_curve(yte, prediction_te)\n",
    "    auc_te = auc(fp_te, tp_te)\n",
    "    auc_test.append(auc_te)\n",
    "\n",
    "    acc_test.append(accuracy_score(yte, prediction_te))"
   ]
  },
  {
   "cell_type": "code",
   "execution_count": 40,
   "metadata": {},
   "outputs": [
    {
     "name": "stdout",
     "output_type": "stream",
     "text": [
      "average accuracy:  0.9271386430678467\n",
      "average precision:  0.9121212172035256\n",
      "average recall:  0.9802816901408453\n",
      "average F1 -Score:  0.9444032343203917\n",
      "average AUC:  0.908791638721216\n"
     ]
    }
   ],
   "source": [
    "print(\"average accuracy: \", np.average(acc_test))\n",
    "print(\"average precision: \", np.average(precision_test))\n",
    "print(\"average recall: \", np.average(recall_test))\n",
    "print(\"average F1 -Score: \", np.average(f_test))\n",
    "print(\"average AUC: \", np.average(auc_test))"
   ]
  },
  {
   "cell_type": "code",
   "execution_count": 41,
   "metadata": {},
   "outputs": [
    {
     "name": "stdout",
     "output_type": "stream",
     "text": [
      "test confusion matrix:\n",
      "---------------\n",
      "Predicted   0   1  All\n",
      "True                  \n",
      "0          40   2   42\n",
      "1           1  70   71\n",
      "All        41  72  113\n"
     ]
    }
   ],
   "source": [
    "index = np.argmax(acc_test)\n",
    "print(\"test confusion matrix:\")\n",
    "print(\"---------------\")\n",
    "print(matrix_test[index])"
   ]
  },
  {
   "cell_type": "code",
   "execution_count": 42,
   "metadata": {},
   "outputs": [
    {
     "data": {
      "image/png": "[encoded data removed]",
      "text/plain": [
       "<Figure size 432x288 with 1 Axes>"
      ]
     },
     "metadata": {
      "needs_background": "light"
     },
     "output_type": "display_data"
    },
    {
     "name": "stdout",
     "output_type": "stream",
     "text": [
      "---------------\n",
      "auc(test data):  0.9691482226693494\n"
     ]
    }
   ],
   "source": [
    "fp, tp, thresholds = roc_curve(y_test[index], prediction_test[index])\n",
    "area = auc(fp, tp)\n",
    "plt.plot(fp, tp, color='red')\n",
    "plt.plot([0, 1], [0, 1], 'k--')\n",
    "plt.xlabel('False Positive Rate')\n",
    "plt.ylabel('True Positive Rate')\n",
    "plt.title(\"ROC(test data)\")\n",
    "plt.show()\n",
    "print(\"---------------\")\n",
    "print(\"auc(test data): \", area)"
   ]
  },
  {
   "cell_type": "markdown",
   "metadata": {},
   "source": [
    "#### 4)"
   ]
  },
  {
   "cell_type": "markdown",
   "metadata": {},
   "source": [
    "##### A)"
   ]
  },
  {
   "cell_type": "code",
   "execution_count": 43,
   "metadata": {},
   "outputs": [],
   "source": [
    "from sklearn.cluster import SpectralClustering"
   ]
  },
  {
   "cell_type": "code",
   "execution_count": 44,
   "metadata": {},
   "outputs": [],
   "source": [
    "acc_train = []\n",
    "\n",
    "precision_train = []\n",
    "recall_train = []\n",
    "f_train = []\n",
    "auc_train = []"
   ]
  },
  {
   "cell_type": "code",
   "execution_count": 45,
   "metadata": {},
   "outputs": [],
   "source": [
    "for i in range(30):\n",
    "    x, y = generate_data()\n",
    "\n",
    "    x = MinMaxScaler().fit(x).transform(x)\n",
    "\n",
    "    xtr, ytr, xte, yte = split_train_test(x, y, ratio = 0.2)\n",
    "    yte = np.array([0 if x == 'M' else 1 for x in yte])\n",
    "    ytr = np.array([0 if x == 'M' else 1 for x in ytr])\n",
    "\n",
    "    spectralClf = SpectralClustering(n_clusters=2, affinity=\"rbf\", n_init=10, gamma=1)\n",
    "    cluster_tr = spectralClf.fit_predict(xtr)\n",
    "\n",
    "    precision_tr, recall_tr, f_tr, _ = score(ytr, cluster_tr, average='binary', pos_label=1)\n",
    "\n",
    "    precision_train.append(precision_tr)\n",
    "    recall_train.append(recall_tr)\n",
    "    f_train.append(f_tr)\n",
    "   \n",
    "    fp_tr, tp_tr, _ = roc_curve(ytr, cluster_tr)\n",
    "    auc_tr = auc(fp_tr, tp_tr)\n",
    "    auc_train.append(auc_tr)\n",
    "\n",
    "    acc_train.append(accuracy_score(ytr, cluster_tr))"
   ]
  },
  {
   "cell_type": "code",
   "execution_count": 46,
   "metadata": {},
   "outputs": [
    {
     "name": "stdout",
     "output_type": "stream",
     "text": [
      "max accuracy:  0.8706140350877193\n",
      "max precision:  0.8328445747800587\n",
      "max recall:  0.9965034965034965\n",
      "max F1 -Score:  0.9059011164274322\n",
      "max AUC:  0.8288564376799671\n"
     ]
    }
   ],
   "source": [
    "print(\"max accuracy: \", np.max(acc_train))\n",
    "print(\"max precision: \", np.max(precision_train))\n",
    "print(\"max recall: \", np.max(recall_train))\n",
    "print(\"max F1 -Score: \", np.max(f_train))\n",
    "print(\"max AUC: \", np.max(auc_train))"
   ]
  },
  {
   "cell_type": "markdown",
   "metadata": {},
   "source": [
    "##### B)"
   ]
  },
  {
   "cell_type": "code",
   "execution_count": 47,
   "metadata": {},
   "outputs": [],
   "source": [
    "acc_train = []\n",
    "\n",
    "matrix_train = {}\n",
    "precision_train = []\n",
    "recall_train = []\n",
    "f_train = []\n",
    "auc_train = []\n",
    "prediction_train = {}\n",
    "y_train = {}"
   ]
  },
  {
   "cell_type": "code",
   "execution_count": 48,
   "metadata": {},
   "outputs": [],
   "source": [
    "for i in range(30):\n",
    "    x, y = generate_data()\n",
    "\n",
    "    x = MinMaxScaler().fit(x).transform(x)\n",
    "\n",
    "    xtr, ytr, xte, yte = split_train_test(x, y, ratio = 0.2)\n",
    "    yte = np.array([0 if x == 'M' else 1 for x in yte])\n",
    "    ytr = np.array([0 if x == 'M' else 1 for x in ytr])\n",
    "\n",
    "    spectralClf = SpectralClustering(n_clusters=2, affinity=\"rbf\", n_init=10, gamma=1)\n",
    "    cluster_tr = spectralClf.fit_predict(xtr)\n",
    "\n",
    "    posIndex = np.argwhere(cluster_tr == 1).reshape(-1, )\n",
    "    negIndex = np.argwhere(cluster_tr == 0).reshape(-1, )\n",
    "\n",
    "    ytr_pos = ytr[posIndex]\n",
    "    ytr_neg = ytr[negIndex]\n",
    "    pos = Counter(ytr_pos).most_common(1)[0][0]\n",
    "    neg = Counter(ytr_neg).most_common(1)[0][0]\n",
    "    cluster_tr[posIndex] = pos\n",
    "    cluster_tr[negIndex] = neg\n",
    "\n",
    "    \n",
    "    prediction_train[i] = cluster_tr\n",
    "    y_train[i] = ytr\n",
    "\n",
    "    matrix_train[i] = pd.crosstab(ytr, cluster_tr, rownames=['True'], colnames=['Predicted'], margins=True)\n",
    "    precision_tr, recall_tr, f_tr, _ = score(ytr, cluster_tr, average='binary', pos_label=1)\n",
    "\n",
    "    precision_train.append(precision_tr)\n",
    "    recall_train.append(recall_tr)\n",
    "    f_train.append(f_tr)\n",
    "   \n",
    "    fp_tr, tp_tr, _ = roc_curve(ytr, cluster_tr)\n",
    "    auc_tr = auc(fp_tr, tp_tr)\n",
    "    auc_train.append(auc_tr)\n",
    "\n",
    "    acc_train.append(accuracy_score(ytr, cluster_tr))"
   ]
  },
  {
   "cell_type": "code",
   "execution_count": 49,
   "metadata": {},
   "outputs": [
    {
     "name": "stdout",
     "output_type": "stream",
     "text": [
      "average accuracy:  0.8573099415204677\n",
      "average precision:  0.8185439561464534\n",
      "average recall:  0.9932400932400933\n",
      "average F1 -Score:  0.897359259322796\n",
      "average AUC:  0.8109337721102426\n"
     ]
    }
   ],
   "source": [
    "print(\"average accuracy: \", np.average(acc_train))\n",
    "print(\"average precision: \", np.average(precision_train))\n",
    "print(\"average recall: \", np.average(recall_train))\n",
    "print(\"average F1 -Score: \", np.average(f_train))\n",
    "print(\"average AUC: \", np.average(auc_train))"
   ]
  },
  {
   "cell_type": "code",
   "execution_count": 50,
   "metadata": {},
   "outputs": [
    {
     "name": "stdout",
     "output_type": "stream",
     "text": [
      "training confusion matrix:\n",
      "---------------\n",
      "Predicted    0    1  All\n",
      "True                    \n",
      "0          123   47  170\n",
      "1            3  283  286\n",
      "All        126  330  456\n"
     ]
    }
   ],
   "source": [
    "index = np.argmax(acc_train)\n",
    "print(\"training confusion matrix:\")\n",
    "print(\"---------------\")\n",
    "print(matrix_train[index])"
   ]
  },
  {
   "cell_type": "code",
   "execution_count": 51,
   "metadata": {},
   "outputs": [
    {
     "data": {
      "image/png": "[encoded data removed]",
      "text/plain": [
       "<Figure size 432x288 with 1 Axes>"
      ]
     },
     "metadata": {
      "needs_background": "light"
     },
     "output_type": "display_data"
    },
    {
     "name": "stdout",
     "output_type": "stream",
     "text": [
      "---------------\n",
      "auc(training data):  0.8565199506375978\n"
     ]
    }
   ],
   "source": [
    "fp, tp, thresholds = roc_curve(y_train[index], prediction_train[index])\n",
    "area = auc(fp, tp)\n",
    "plt.plot(fp, tp, color='red')\n",
    "plt.plot([0, 1], [0, 1], 'k--')\n",
    "plt.xlabel('False Positive Rate')\n",
    "plt.ylabel('True Positive Rate')\n",
    "plt.title(\"ROC(traning data)\")\n",
    "plt.show()\n",
    "print(\"---------------\")\n",
    "print(\"auc(training data): \", area)"
   ]
  },
  {
   "cell_type": "markdown",
   "metadata": {},
   "source": [
    "##### C)"
   ]
  },
  {
   "cell_type": "code",
   "execution_count": 52,
   "metadata": {},
   "outputs": [],
   "source": [
    "acc_test = []\n",
    "\n",
    "matrix_test = {}\n",
    "precision_test = []\n",
    "recall_test = []\n",
    "f_test = []\n",
    "auc_test = []\n",
    "prediction_test = {}\n",
    "y_test = {}"
   ]
  },
  {
   "cell_type": "code",
   "execution_count": 53,
   "metadata": {},
   "outputs": [],
   "source": [
    "for i in range(30):\n",
    "    x, y = generate_data()\n",
    "\n",
    "    x = MinMaxScaler().fit(x).transform(x)\n",
    "\n",
    "    xtr, ytr, xte, yte = split_train_test(x, y, ratio = 0.2)\n",
    "    yte = np.array([0 if x == 'M' else 1 for x in yte])\n",
    "    ytr = np.array([0 if x == 'M' else 1 for x in ytr])\n",
    "\n",
    "    spectralClf = SpectralClustering(n_clusters=2, affinity=\"rbf\", n_init=10, gamma=1)\n",
    "    cluster_te = spectralClf.fit_predict(xte)\n",
    "\n",
    "    posIndex = np.argwhere(cluster_te == 1).reshape(-1, )\n",
    "    negIndex = np.argwhere(cluster_te == 0).reshape(-1, )\n",
    "\n",
    "    yte_pos = yte[posIndex]\n",
    "    yte_neg = yte[negIndex]\n",
    "    pos = Counter(yte_pos).most_common(1)[0][0]\n",
    "    neg = Counter(yte_neg).most_common(1)[0][0]\n",
    "    cluster_te[posIndex] = pos\n",
    "    cluster_te[negIndex] = neg\n",
    "    \n",
    "    prediction_test[i] = prediction_te\n",
    "    y_test[i]= yte\n",
    "\n",
    "    matrix_test[i] = pd.crosstab(yte, cluster_te, rownames=['True'], colnames=['Predicted'], margins=True)\n",
    "    precision_te, recall_te, f_te, _ = score(yte, cluster_te, average='binary', pos_label=1)\n",
    "\n",
    "    precision_test.append(precision_te)\n",
    "    recall_test.append(recall_te)\n",
    "    f_test.append(f_te)\n",
    "   \n",
    "    fp_te, tp_te, _ = roc_curve(yte, cluster_te)\n",
    "    auc_te = auc(fp_te, tp_te)\n",
    "    auc_test.append(auc_te)\n",
    "\n",
    "    acc_test.append(accuracy_score(yte, cluster_te))"
   ]
  },
  {
   "cell_type": "code",
   "execution_count": 54,
   "metadata": {},
   "outputs": [
    {
     "name": "stdout",
     "output_type": "stream",
     "text": [
      "average accuracy:  0.8513274336283186\n",
      "average precision:  0.8202695161918504\n",
      "average recall:  0.996244131455399\n",
      "average F1 -Score:  0.8971539265625379\n",
      "average AUC:  0.8012966689023028\n"
     ]
    }
   ],
   "source": [
    "print(\"average accuracy: \", np.average(acc_test))\n",
    "print(\"average precision: \", np.average(precision_test))\n",
    "print(\"average recall: \", np.average(recall_test))\n",
    "print(\"average F1 -Score: \", np.average(f_test))\n",
    "print(\"average AUC: \", np.average(auc_test))"
   ]
  },
  {
   "cell_type": "code",
   "execution_count": 55,
   "metadata": {},
   "outputs": [
    {
     "name": "stdout",
     "output_type": "stream",
     "text": [
      "test confusion matrix:\n",
      "---------------\n",
      "Predicted   0   1  All\n",
      "True                  \n",
      "0          38   4   42\n",
      "1           1  70   71\n",
      "All        39  74  113\n"
     ]
    }
   ],
   "source": [
    "index = np.argmax(acc_test)\n",
    "print(\"test confusion matrix:\")\n",
    "print(\"---------------\")\n",
    "print(matrix_test[index])"
   ]
  },
  {
   "cell_type": "code",
   "execution_count": 56,
   "metadata": {},
   "outputs": [
    {
     "data": {
      "image/png": "[encoded data removed]",
      "text/plain": [
       "<Figure size 432x288 with 1 Axes>"
      ]
     },
     "metadata": {
      "needs_background": "light"
     },
     "output_type": "display_data"
    },
    {
     "name": "stdout",
     "output_type": "stream",
     "text": [
      "---------------\n",
      "auc(test data):  0.9215291750503019\n"
     ]
    }
   ],
   "source": [
    "fp, tp, thresholds = roc_curve(y_test[index], prediction_test[index])\n",
    "area = auc(fp, tp)\n",
    "plt.plot(fp, tp, color='red')\n",
    "plt.plot([0, 1], [0, 1], 'k--')\n",
    "plt.xlabel('False Positive Rate')\n",
    "plt.ylabel('True Positive Rate')\n",
    "plt.title(\"ROC(test data)\")\n",
    "plt.show()\n",
    "print(\"---------------\")\n",
    "print(\"auc(test data): \", area)"
   ]
  },
  {
   "cell_type": "markdown",
   "metadata": {},
   "source": [
    "#### 5)"
   ]
  },
  {
   "cell_type": "markdown",
   "metadata": {},
   "source": [
    "**For supervised learning(test data):**\n",
    "\n",
    "average accuracy:  0.9702064896755164\n",
    "\n",
    "average precision:  0.9706567391430474\n",
    "\n",
    "average recall:  0.9826291079812207\n",
    "\n",
    "average F1 -Score:  0.9764518225593872\n",
    "\n",
    "average AUC:  0.9659177285937849\n",
    "\n",
    "**For semi-supervised learning(test data):**\n",
    "\n",
    "average accuracy:  0.9584070796460177\n",
    "\n",
    "average precision:  0.9573488241934197\n",
    "\n",
    "average recall:  0.9779342723004696\n",
    "\n",
    "average F1 -Score:  0.9672339566216377\n",
    "\n",
    "average AUC:  0.9516655488486474\n",
    "\n",
    "\n",
    "**For unsupervised learning:**\n",
    "\n",
    "average accuracy:  0.9271386430678467\n",
    "\n",
    "average precision:  0.9121212172035256\n",
    "\n",
    "average recall:  0.9802816901408453\n",
    "\n",
    "average F1 -Score:  0.9444032343203917\n",
    "\n",
    "average AUC:  0.908791638721216\n"
   ]
  },
  {
   "cell_type": "markdown",
   "metadata": {},
   "source": [
    "**We can find that supervised learning performs a little better than semi-supervised learning, and both of them are better than unsupervised learning.**\n",
    "\n",
    "**And for Spectral Clustering, I don't think it's a good choice to use it here. In this issue, I think k-means is better.**"
   ]
  },
  {
   "cell_type": "markdown",
   "metadata": {},
   "source": [
    "## 2. Active Learning Using Support Vector Machines"
   ]
  },
  {
   "cell_type": "markdown",
   "metadata": {},
   "source": [
    "### a)"
   ]
  },
  {
   "cell_type": "code",
   "execution_count": 57,
   "metadata": {},
   "outputs": [],
   "source": [
    "filename2 = os.path.join(data_folder, 'data_banknote_authentication.txt')"
   ]
  },
  {
   "cell_type": "code",
   "execution_count": 58,
   "metadata": {},
   "outputs": [],
   "source": [
    "from sklearn.preprocessing import StandardScaler"
   ]
  },
  {
   "cell_type": "code",
   "execution_count": 59,
   "metadata": {},
   "outputs": [
    {
     "name": "stdout",
     "output_type": "stream",
     "text": [
      "         0       1       2        3  4\n",
      "0  3.62160  8.6661 -2.8073 -0.44699  0\n",
      "1  4.54590  8.1674 -2.4586 -1.46210  0\n",
      "2  3.86600 -2.6383  1.9242  0.10645  0\n",
      "3  3.45660  9.5228 -4.0112 -3.59440  0\n",
      "4  0.32924 -4.4552  4.5718 -0.98880  0\n"
     ]
    }
   ],
   "source": [
    "df2 = pd.read_csv(filename2, header = None)\n",
    "print(df2.head())"
   ]
  },
  {
   "cell_type": "code",
   "execution_count": 60,
   "metadata": {},
   "outputs": [
    {
     "name": "stdout",
     "output_type": "stream",
     "text": [
      "shape of training data: (900, 4) (900,)\n",
      "shape of test data: (472, 4) (472,)\n"
     ]
    }
   ],
   "source": [
    "data = df2.sample(frac=1).reset_index(drop=True)\n",
    "\n",
    "x = data.iloc[:, :4]\n",
    "y = data.iloc[:, 4].to_numpy()\n",
    "x = StandardScaler().fit(x).transform(x)\n",
    "\n",
    "xte = x[:472]\n",
    "xtr = x[472:]\n",
    "yte = y[:472]\n",
    "ytr = y[472:]\n",
    "\n",
    "print(\"shape of training data:\", xtr.shape, ytr.shape)\n",
    "print(\"shape of test data:\", xte.shape, yte.shape)"
   ]
  },
  {
   "cell_type": "markdown",
   "metadata": {},
   "source": [
    "### b)"
   ]
  },
  {
   "cell_type": "markdown",
   "metadata": {},
   "source": [
    "#### 1)"
   ]
  },
  {
   "cell_type": "code",
   "execution_count": 61,
   "metadata": {},
   "outputs": [],
   "source": [
    "error_pass = []"
   ]
  },
  {
   "cell_type": "code",
   "execution_count": 62,
   "metadata": {},
   "outputs": [],
   "source": [
    "import random"
   ]
  },
  {
   "cell_type": "code",
   "execution_count": 63,
   "metadata": {
    "scrolled": true
   },
   "outputs": [
    {
     "name": "stderr",
     "output_type": "stream",
     "text": [
      "100%|██████████████████████████████████████████████████████████████████████████████████| 50/50 [15:53<00:00, 19.08s/it]\n"
     ]
    }
   ],
   "source": [
    "for i in tqdm(range(50)):\n",
    "    error = []\n",
    "    length = len(xtr)\n",
    "    index = np.arange(0, length)\n",
    "    \n",
    "    xtr_pool = np.array([[]])\n",
    "    ytr_pool = np.array([])\n",
    "    \n",
    "    for __ in range(90):\n",
    "        indexes = random.sample(index.tolist(), 10)\n",
    "        check = True if len(Counter(ytr[indexes]).keys()) == 2 else False\n",
    "        while not check:\n",
    "            indexes = random.sample(index.tolist(), 10)\n",
    "            check = True if len(Counter(ytr[indexes]).keys()) == 2 else False\n",
    "        index = np.setdiff1d(index, np.array(indexes))\n",
    "        \n",
    "        xtr_pool = np.append(xtr_pool, xtr[indexes]).reshape(-1, 4)\n",
    "        ytr_pool = np.append(ytr_pool, ytr[indexes]).reshape(-1, )\n",
    "        l1_scv = LinearSVC(penalty=\"l1\", dual=False, max_iter=5000)\n",
    "        gridCV = GridSearchCV(l1_scv, parameters, cv=5, n_jobs=-1, scoring='accuracy')\n",
    "        gridCV.fit(xtr_pool, ytr_pool)\n",
    "        error.append(1 - gridCV.score(xte, yte))\n",
    "\n",
    "    error_pass.append(error)"
   ]
  },
  {
   "cell_type": "markdown",
   "metadata": {},
   "source": [
    "#### 2)"
   ]
  },
  {
   "cell_type": "code",
   "execution_count": 64,
   "metadata": {},
   "outputs": [],
   "source": [
    "error_act = []"
   ]
  },
  {
   "cell_type": "code",
   "execution_count": 65,
   "metadata": {},
   "outputs": [
    {
     "name": "stderr",
     "output_type": "stream",
     "text": [
      "100%|██████████████████████████████████████████████████████████████████████████████████| 50/50 [18:04<00:00, 21.68s/it]\n"
     ]
    }
   ],
   "source": [
    "for i in tqdm(range(50)):\n",
    "    error = []\n",
    "    length = len(xtr)\n",
    "    index = np.arange(0, length)\n",
    "    \n",
    "    xtr_pool = np.array([[]])\n",
    "    ytr_pool = np.array([])\n",
    "    \n",
    "    indexes = random.sample(index.tolist(), 10)\n",
    "    check = True if len(Counter(ytr[indexes]).keys()) == 2 else False\n",
    "    while not check:\n",
    "        indexes = random.sample(index.tolist(), 10)\n",
    "        check = True if len(Counter(ytr[indexes]).keys()) == 2 else False\n",
    "    index = np.setdiff1d(index, np.array(indexes))\n",
    "\n",
    "    xtr_pool = np.append(xtr_pool, xtr[indexes]).reshape(-1, 4)\n",
    "    ytr_pool = np.append(ytr_pool, ytr[indexes]).reshape(-1, )\n",
    "    l1_scv = LinearSVC(penalty=\"l1\", dual=False, max_iter=5000)\n",
    "    gridCV = GridSearchCV(l1_scv, parameters, cv=5, n_jobs=-1, scoring='accuracy')\n",
    "    gridCV.fit(xtr_pool, ytr_pool)\n",
    "    error.append(1 - gridCV.score(xte, yte))\n",
    "        \n",
    "    for __ in range(89):\n",
    "        x_remaining = xtr[index]\n",
    "        distances = gridCV.best_estimator_.decision_function(x_remaining).reshape(-1, 1)\n",
    "        x_remaining = np.hstack((x_remaining, abs(distances)))\n",
    "        indexes_near = x_remaining[:, 4].argsort()[:10]\n",
    "        x_near = xtr[indexes_near]\n",
    "        y_near = ytr[indexes_near]\n",
    "        index = np.setdiff1d(index, np.array(indexes_near))\n",
    "        \n",
    "        xtr_pool = np.append(xtr_pool, x_near).reshape(-1, 4)\n",
    "        ytr_pool = np.append(ytr_pool, y_near).reshape(-1, )\n",
    "\n",
    "        l1_scv = LinearSVC(penalty=\"l1\", dual=False, max_iter=5000)\n",
    "        gridCV = GridSearchCV(l1_scv, parameters, cv=5, n_jobs=-1, scoring='accuracy')\n",
    "        gridCV.fit(xtr_pool, ytr_pool)\n",
    "        error.append(1 - gridCV.score(xte, yte))\n",
    "\n",
    "    error_act.append(error)"
   ]
  },
  {
   "cell_type": "markdown",
   "metadata": {},
   "source": [
    "### c)"
   ]
  },
  {
   "cell_type": "code",
   "execution_count": 66,
   "metadata": {},
   "outputs": [
    {
     "data": {
      "image/png": "[encoded data removed]",
      "text/plain": [
       "<Figure size 432x288 with 1 Axes>"
      ]
     },
     "metadata": {
      "needs_background": "light"
     },
     "output_type": "display_data"
    }
   ],
   "source": [
    "avg_error_pass = np.average(np.array(error_pass), axis=0)\n",
    "avg_error_act = np.average(np.array(error_act), axis=0)\n",
    "plt.plot(np.arange(10, 901, 10), avg_error_pass, marker='', linewidth=1, label=\"passive learning\")\n",
    "plt.plot(np.arange(10, 901, 10), avg_error_act, marker='', linewidth=1, label=\"active learning\")\n",
    "\n",
    "plt.xlabel('number of training instance')\n",
    "plt.ylabel('average test error')\n",
    "plt.ylim([0, 0.15])\n",
    "plt.title(\"learning curve by Monte-Carlo simulation\")\n",
    "plt.legend()\n",
    "plt.show()"
   ]
  },
  {
   "cell_type": "markdown",
   "metadata": {},
   "source": [
    "**We can find that active learning curve decreases more quickly, but the final test error is very similar with the passive learning curve. So, I think active learning is just a little better than passive learning in this issue.** "
   ]
  },
  {
   "cell_type": "code",
   "execution_count": null,
   "metadata": {},
   "outputs": [],
   "source": []
  }
 ],
 "metadata": {
  "kernelspec": {
   "display_name": "Python 3.6.10 64-bit ('py36': conda)",
   "language": "python",
   "name": "python361064bitpy36conda4e672d6ff96844debe44d9bc86fe2211"
  },
  "language_info": {
   "codemirror_mode": {
    "name": "ipython",
    "version": 3
   },
   "file_extension": ".py",
   "mimetype": "text/x-python",
   "name": "python",
   "nbconvert_exporter": "python",
   "pygments_lexer": "ipython3",
   "version": "3.6.10"
  }
 },
 "nbformat": 4,
 "nbformat_minor": 2
}
